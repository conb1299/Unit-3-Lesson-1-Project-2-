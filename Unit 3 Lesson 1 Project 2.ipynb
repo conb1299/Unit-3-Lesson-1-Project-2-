{
 "cells": [
  {
   "cell_type": "markdown",
   "metadata": {},
   "source": [
    "If we were a credit card company using KNN to predict whether someone would pay their bills there would be a number of things we would have to consider. What I would do first is plot the total bill from previous customers labeling them by customers who paid the bill in full and customers who did not. Then we can take the bill from our prospective customer and using KNN see which previous bill or bills it falls closest to on the plot. If the bill falls closest to a previously unpaid bill we can predict it will go unpaid however it falls closest to a paid will we can predict that as the basis for our model. Next, after separating the bill into four categories we can run similar models based solely within the categories. For instance if a person has an abnormally high dining out bill we can compare it to other abnormally high dining out bills to see whether or not it got paid in full. By making four categories we are adding new features to the KNN model to test so we can come up with the most accurate model for predicting payment of our customers."
   ]
  }
 ],
 "metadata": {
  "kernelspec": {
   "display_name": "Python 3",
   "language": "python",
   "name": "python3"
  },
  "language_info": {
   "codemirror_mode": {
    "name": "ipython",
    "version": 3
   },
   "file_extension": ".py",
   "mimetype": "text/x-python",
   "name": "python",
   "nbconvert_exporter": "python",
   "pygments_lexer": "ipython3",
   "version": "3.6.1"
  }
 },
 "nbformat": 4,
 "nbformat_minor": 2
}
